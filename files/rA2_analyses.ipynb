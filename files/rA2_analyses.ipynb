{
 "cells": [
  {
   "cell_type": "code",
   "execution_count": 2,
   "metadata": {},
   "outputs": [],
   "source": [
    "%matplotlib inline\n",
    "import matplotlib.pyplot as plt\n",
    "import seaborn as sns\n",
    "import numpy as np\n",
    "import pandas as pd\n",
    "import statsmodels.api as sm\n",
    "import statsmodels.formula.api as smf"
   ]
  },
  {
   "cell_type": "code",
   "execution_count": 27,
   "metadata": {},
   "outputs": [],
   "source": [
    "# load data\n",
    "data = pd.read_csv('./rA2_ratings_raw_cut.csv')"
   ]
  },
  {
   "cell_type": "code",
   "execution_count": 28,
   "metadata": {},
   "outputs": [
    {
     "name": "stdout",
     "output_type": "stream",
     "text": [
      "              Mixed Linear Model Regression Results\n",
      "================================================================\n",
      "Model:               MixedLM   Dependent Variable:   Rating     \n",
      "No. Observations:    40320     Method:               REML       \n",
      "No. Groups:          120       Scale:                1.1461     \n",
      "Min. group size:     336       Likelihood:           -60231.0336\n",
      "Max. group size:     336       Converged:            Yes        \n",
      "Mean group size:     336.0                                      \n",
      "----------------------------------------------------------------\n",
      "                     Coef.  Std.Err.    z    P>|z| [0.025 0.975]\n",
      "----------------------------------------------------------------\n",
      "Intercept             5.132    0.114  44.851 0.000  4.908  5.356\n",
      "sub2dom              -0.259    0.007 -34.755 0.000 -0.274 -0.244\n",
      "w2b                   0.573    0.054  10.662 0.000  0.468  0.678\n",
      "sub2dom:w2b          -0.128    0.015  -8.616 0.000 -0.158 -0.099\n",
      "IAWB_l2h             -0.023    0.031  -0.727 0.467 -0.084  0.039\n",
      "sub2dom:IAWB_l2h     -0.009    0.002  -4.243 0.000 -0.013 -0.005\n",
      "w2b:IAWB_l2h         -0.056    0.015  -3.804 0.000 -0.085 -0.027\n",
      "sub2dom:w2b:IAWB_l2h  0.024    0.004   5.910 0.000  0.016  0.032\n",
      "groups RE             0.190    0.024                            \n",
      "================================================================\n",
      "\n"
     ]
    }
   ],
   "source": [
    "# MLM\n",
    "md = smf.mixedlm(\"Rating ~ sub2dom * w2b * IAWB_l2h\", data, groups=data[\"SubjID\"]).fit()\n",
    "print md.summary()"
   ]
  }
 ],
 "metadata": {
  "kernelspec": {
   "display_name": "Python 2",
   "language": "python",
   "name": "python2"
  },
  "language_info": {
   "codemirror_mode": {
    "name": "ipython",
    "version": 2
   },
   "file_extension": ".py",
   "mimetype": "text/x-python",
   "name": "python",
   "nbconvert_exporter": "python",
   "pygments_lexer": "ipython2",
   "version": "2.7.13"
  }
 },
 "nbformat": 4,
 "nbformat_minor": 2
}
