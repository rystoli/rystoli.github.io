{
 "cells": [
  {
   "cell_type": "markdown",
   "metadata": {},
   "source": [
    "# Stereotype-category interactions\n",
    "\n",
    "Here we follow-up Stolier & Freeman (2016 - Nature Neuroscience) to see if individual differences in stereotype-driven category interactions are reflected in the brain. That is, we want to assess whether participants who believe black-male stereotype overlap is more similar than black-female stereotype overlap, also show more simliar neural responses between looking at black and male faces, compared to black and female faces. \n",
    "\n",
    "In other words, we test if the brain is processing black as more similar to male than female in individuals who stereotype black as more similar to male than female.\n",
    "\n",
    "First, let's load in the data.\n",
    "\n",
    "## Data loading"
   ]
  },
  {
   "cell_type": "code",
   "execution_count": 2,
   "metadata": {
    "collapsed": true
   },
   "outputs": [],
   "source": [
    "from env_analysis import *\n",
    "from scipy.stats import spearmanr\n",
    "%matplotlib inline\n",
    "import seaborn as sns\n",
    "from IPython.display import display\n",
    "import glob"
   ]
  },
  {
   "cell_type": "markdown",
   "metadata": {},
   "source": [
    "Let's prepare the data, creating patterns for black (male and female), male (white), and female (white)."
   ]
  },
  {
   "cell_type": "code",
   "execution_count": 3,
   "metadata": {},
   "outputs": [
    {
     "name": "stdout",
     "output_type": "stream",
     "text": [
      "('new targets', array(['b', 'f', 'm'],\n",
      "      dtype='|S1'))\n"
     ]
    }
   ],
   "source": [
    "for s in data:\n",
    "    data[s].sa['targets'] = ['b' if i[0] == 'b' else i[1] for i in data[s].sa.targets]\n",
    "print('new targets',np.unique([data[s].UT for s in data]))"
   ]
  },
  {
   "cell_type": "markdown",
   "metadata": {},
   "source": [
    "# ROI analysis\n",
    "\n",
    "First, let's analyze the FG and OFC ROIs identified in Stolier & Freeman, 2016 - Nature Neuroscience.\n",
    "\n",
    "The most intuitive way is a pairsim ANOVA, seeing if black is closer to male than female, and whether individual differences in the stereotype overlap of these categories predicts neural pattern similarity (i.e., do subjects with a stronger black-male vs. black-female stereotype overlap have more similar black-male than black-female neural patterns).\n",
    "\n",
    "## Pairsim ANOVA"
   ]
  },
  {
   "cell_type": "markdown",
   "metadata": {},
   "source": [
    "On average, is black-male more similar than black-female?"
   ]
  },
  {
   "cell_type": "code",
   "execution_count": 4,
   "metadata": {},
   "outputs": [
    {
     "name": "stdout",
     "output_type": "stream",
     "text": [
      "Ttest_relResult(statistic=0.56481023964713406, pvalue=0.57818705181604257)\n"
     ]
    }
   ],
   "source": [
    "bm_bf_pairsims = pd.DataFrame(roi_pairsim_nSs(data,'ROIs/roimask_rFG_original.nii.gz',[['b','m'],['b','f']],fisherz=1)).transpose()\n",
    "print(scipy.stats.ttest_rel(bm_bf_pairsims['b-f'],bm_bf_pairsims['b-m']))"
   ]
  },
  {
   "cell_type": "markdown",
   "metadata": {},
   "source": [
    "## Individual differences in stereotype overlap\n",
    "\n",
    "From each subject's explicit stereotype overlap DM, let's get their black-male and black-female overlap, and, particularly, the difference between the two.\n",
    "\n",
    "First, let's prepare the data."
   ]
  },
  {
   "cell_type": "code",
   "execution_count": 5,
   "metadata": {},
   "outputs": [
    {
     "data": {
      "text/html": [
       "<div>\n",
       "<style>\n",
       "    .dataframe thead tr:only-child th {\n",
       "        text-align: right;\n",
       "    }\n",
       "\n",
       "    .dataframe thead th {\n",
       "        text-align: left;\n",
       "    }\n",
       "\n",
       "    .dataframe tbody tr th {\n",
       "        vertical-align: top;\n",
       "    }\n",
       "</style>\n",
       "<table border=\"1\" class=\"dataframe\">\n",
       "  <thead>\n",
       "    <tr style=\"text-align: right;\">\n",
       "      <th></th>\n",
       "      <th>b-f</th>\n",
       "      <th>b-m</th>\n",
       "      <th>expBF</th>\n",
       "      <th>expBM</th>\n",
       "      <th>expBM_m_BF</th>\n",
       "      <th>bm_bf</th>\n",
       "    </tr>\n",
       "  </thead>\n",
       "  <tbody>\n",
       "    <tr>\n",
       "      <th>669</th>\n",
       "      <td>-0.674501</td>\n",
       "      <td>-1.070686</td>\n",
       "      <td>-0.105727</td>\n",
       "      <td>0.019033</td>\n",
       "      <td>0.124760</td>\n",
       "      <td>-0.396186</td>\n",
       "    </tr>\n",
       "    <tr>\n",
       "      <th>675</th>\n",
       "      <td>-0.946769</td>\n",
       "      <td>-0.539543</td>\n",
       "      <td>0.057885</td>\n",
       "      <td>0.034193</td>\n",
       "      <td>-0.023692</td>\n",
       "      <td>0.407226</td>\n",
       "    </tr>\n",
       "    <tr>\n",
       "      <th>679</th>\n",
       "      <td>-0.970484</td>\n",
       "      <td>-1.187663</td>\n",
       "      <td>0.006691</td>\n",
       "      <td>0.068385</td>\n",
       "      <td>0.061694</td>\n",
       "      <td>-0.217179</td>\n",
       "    </tr>\n",
       "    <tr>\n",
       "      <th>680</th>\n",
       "      <td>-0.602375</td>\n",
       "      <td>-0.672666</td>\n",
       "      <td>0.496418</td>\n",
       "      <td>0.132380</td>\n",
       "      <td>-0.364039</td>\n",
       "      <td>-0.070291</td>\n",
       "    </tr>\n",
       "    <tr>\n",
       "      <th>683</th>\n",
       "      <td>-0.463430</td>\n",
       "      <td>-0.743049</td>\n",
       "      <td>-0.384235</td>\n",
       "      <td>-0.002991</td>\n",
       "      <td>0.381244</td>\n",
       "      <td>-0.279618</td>\n",
       "    </tr>\n",
       "    <tr>\n",
       "      <th>686</th>\n",
       "      <td>-0.609331</td>\n",
       "      <td>-0.579112</td>\n",
       "      <td>0.707201</td>\n",
       "      <td>0.167384</td>\n",
       "      <td>-0.539817</td>\n",
       "      <td>0.030219</td>\n",
       "    </tr>\n",
       "    <tr>\n",
       "      <th>687</th>\n",
       "      <td>-1.119413</td>\n",
       "      <td>-0.694410</td>\n",
       "      <td>0.397418</td>\n",
       "      <td>-0.198341</td>\n",
       "      <td>-0.595759</td>\n",
       "      <td>0.425002</td>\n",
       "    </tr>\n",
       "    <tr>\n",
       "      <th>690</th>\n",
       "      <td>-0.630877</td>\n",
       "      <td>-1.055084</td>\n",
       "      <td>0.138168</td>\n",
       "      <td>0.167163</td>\n",
       "      <td>0.028995</td>\n",
       "      <td>-0.424207</td>\n",
       "    </tr>\n",
       "    <tr>\n",
       "      <th>691</th>\n",
       "      <td>-0.210943</td>\n",
       "      <td>-0.654650</td>\n",
       "      <td>-0.230452</td>\n",
       "      <td>0.256986</td>\n",
       "      <td>0.487437</td>\n",
       "      <td>-0.443707</td>\n",
       "    </tr>\n",
       "    <tr>\n",
       "      <th>692</th>\n",
       "      <td>-0.647966</td>\n",
       "      <td>-0.421188</td>\n",
       "      <td>0.056201</td>\n",
       "      <td>0.341221</td>\n",
       "      <td>0.285020</td>\n",
       "      <td>0.226779</td>\n",
       "    </tr>\n",
       "    <tr>\n",
       "      <th>695</th>\n",
       "      <td>-0.316915</td>\n",
       "      <td>-0.807430</td>\n",
       "      <td>-0.132900</td>\n",
       "      <td>0.339028</td>\n",
       "      <td>0.471928</td>\n",
       "      <td>-0.490514</td>\n",
       "    </tr>\n",
       "    <tr>\n",
       "      <th>696</th>\n",
       "      <td>-0.599215</td>\n",
       "      <td>-0.236293</td>\n",
       "      <td>0.111366</td>\n",
       "      <td>0.117876</td>\n",
       "      <td>0.006509</td>\n",
       "      <td>0.362922</td>\n",
       "    </tr>\n",
       "    <tr>\n",
       "      <th>699</th>\n",
       "      <td>-0.503564</td>\n",
       "      <td>-0.762878</td>\n",
       "      <td>-0.134272</td>\n",
       "      <td>0.236218</td>\n",
       "      <td>0.370491</td>\n",
       "      <td>-0.259314</td>\n",
       "    </tr>\n",
       "    <tr>\n",
       "      <th>703</th>\n",
       "      <td>-0.307200</td>\n",
       "      <td>-0.661984</td>\n",
       "      <td>-0.214558</td>\n",
       "      <td>-0.028419</td>\n",
       "      <td>0.186140</td>\n",
       "      <td>-0.354784</td>\n",
       "    </tr>\n",
       "    <tr>\n",
       "      <th>707</th>\n",
       "      <td>-0.678430</td>\n",
       "      <td>-0.697191</td>\n",
       "      <td>0.295118</td>\n",
       "      <td>-0.030758</td>\n",
       "      <td>-0.325876</td>\n",
       "      <td>-0.018762</td>\n",
       "    </tr>\n",
       "    <tr>\n",
       "      <th>709</th>\n",
       "      <td>-0.970559</td>\n",
       "      <td>-0.716701</td>\n",
       "      <td>-0.014870</td>\n",
       "      <td>-0.085592</td>\n",
       "      <td>-0.070722</td>\n",
       "      <td>0.253859</td>\n",
       "    </tr>\n",
       "    <tr>\n",
       "      <th>712</th>\n",
       "      <td>-0.535467</td>\n",
       "      <td>-0.448943</td>\n",
       "      <td>-0.149327</td>\n",
       "      <td>0.246049</td>\n",
       "      <td>0.395376</td>\n",
       "      <td>0.086524</td>\n",
       "    </tr>\n",
       "    <tr>\n",
       "      <th>713</th>\n",
       "      <td>-0.517081</td>\n",
       "      <td>-0.379568</td>\n",
       "      <td>-0.030730</td>\n",
       "      <td>0.103741</td>\n",
       "      <td>0.134471</td>\n",
       "      <td>0.137513</td>\n",
       "    </tr>\n",
       "    <tr>\n",
       "      <th>715</th>\n",
       "      <td>-0.807334</td>\n",
       "      <td>-0.585038</td>\n",
       "      <td>0.131585</td>\n",
       "      <td>0.411211</td>\n",
       "      <td>0.279626</td>\n",
       "      <td>0.222295</td>\n",
       "    </tr>\n",
       "    <tr>\n",
       "      <th>722</th>\n",
       "      <td>-0.391921</td>\n",
       "      <td>-0.793695</td>\n",
       "      <td>0.148889</td>\n",
       "      <td>0.146209</td>\n",
       "      <td>-0.002680</td>\n",
       "      <td>-0.401774</td>\n",
       "    </tr>\n",
       "    <tr>\n",
       "      <th>728</th>\n",
       "      <td>-0.432082</td>\n",
       "      <td>-0.805162</td>\n",
       "      <td>0.056457</td>\n",
       "      <td>0.106150</td>\n",
       "      <td>0.049693</td>\n",
       "      <td>-0.373080</td>\n",
       "    </tr>\n",
       "    <tr>\n",
       "      <th>729</th>\n",
       "      <td>-0.918881</td>\n",
       "      <td>-0.251663</td>\n",
       "      <td>0.066908</td>\n",
       "      <td>0.096561</td>\n",
       "      <td>0.029652</td>\n",
       "      <td>0.667218</td>\n",
       "    </tr>\n",
       "  </tbody>\n",
       "</table>\n",
       "</div>"
      ],
      "text/plain": [
       "          b-f       b-m     expBF     expBM  expBM_m_BF     bm_bf\n",
       "669 -0.674501 -1.070686 -0.105727  0.019033    0.124760 -0.396186\n",
       "675 -0.946769 -0.539543  0.057885  0.034193   -0.023692  0.407226\n",
       "679 -0.970484 -1.187663  0.006691  0.068385    0.061694 -0.217179\n",
       "680 -0.602375 -0.672666  0.496418  0.132380   -0.364039 -0.070291\n",
       "683 -0.463430 -0.743049 -0.384235 -0.002991    0.381244 -0.279618\n",
       "686 -0.609331 -0.579112  0.707201  0.167384   -0.539817  0.030219\n",
       "687 -1.119413 -0.694410  0.397418 -0.198341   -0.595759  0.425002\n",
       "690 -0.630877 -1.055084  0.138168  0.167163    0.028995 -0.424207\n",
       "691 -0.210943 -0.654650 -0.230452  0.256986    0.487437 -0.443707\n",
       "692 -0.647966 -0.421188  0.056201  0.341221    0.285020  0.226779\n",
       "695 -0.316915 -0.807430 -0.132900  0.339028    0.471928 -0.490514\n",
       "696 -0.599215 -0.236293  0.111366  0.117876    0.006509  0.362922\n",
       "699 -0.503564 -0.762878 -0.134272  0.236218    0.370491 -0.259314\n",
       "703 -0.307200 -0.661984 -0.214558 -0.028419    0.186140 -0.354784\n",
       "707 -0.678430 -0.697191  0.295118 -0.030758   -0.325876 -0.018762\n",
       "709 -0.970559 -0.716701 -0.014870 -0.085592   -0.070722  0.253859\n",
       "712 -0.535467 -0.448943 -0.149327  0.246049    0.395376  0.086524\n",
       "713 -0.517081 -0.379568 -0.030730  0.103741    0.134471  0.137513\n",
       "715 -0.807334 -0.585038  0.131585  0.411211    0.279626  0.222295\n",
       "722 -0.391921 -0.793695  0.148889  0.146209   -0.002680 -0.401774\n",
       "728 -0.432082 -0.805162  0.056457  0.106150    0.049693 -0.373080\n",
       "729 -0.918881 -0.251663  0.066908  0.096561    0.029652  0.667218"
      ]
     },
     "metadata": {},
     "output_type": "display_data"
    }
   ],
   "source": [
    "exp_data = [[1-squareform(DMs.Exp7x7[s])[6],1-squareform(DMs.Exp7x7[s])[8],(1-squareform(DMs.Exp7x7[s])[8])-(1-squareform(DMs.Exp7x7[s])[6])] for s in bm_bf_pairsims.index.values]\n",
    "exp_data = pd.DataFrame(exp_data,columns=['expBF','expBM','expBM_m_BF'],index=bm_bf_pairsims.index.values)\n",
    "bm_bf_data = pd.concat([bm_bf_pairsims,exp_data],axis=1)\n",
    "bm_bf_data['bm_bf'] = bm_bf_data['b-m'] - bm_bf_data['b-f']\n",
    "display(bm_bf_data)"
   ]
  },
  {
   "cell_type": "markdown",
   "metadata": {},
   "source": [
    "Is the similarity in stereotypes related to the similarity in neural patterns?"
   ]
  },
  {
   "cell_type": "code",
   "execution_count": 7,
   "metadata": {},
   "outputs": [
    {
     "name": "stdout",
     "output_type": "stream",
     "text": [
      "(-0.37228462364995957, 0.087971060798490305)\n"
     ]
    },
    {
     "data": {
      "text/plain": [
       "<seaborn.axisgrid.JointGrid at 0x7f0da1cd8dd0>"
      ]
     },
     "execution_count": 7,
     "metadata": {},
     "output_type": "execute_result"
    },
    {
     "data": {
      "image/png": "[encoded data removed]",
      "text/plain": [
       "<matplotlib.figure.Figure at 0x7f0da3ffc6d0>"
      ]
     },
     "metadata": {},
     "output_type": "display_data"
    }
   ],
   "source": [
    "print(pearsonr(bm_bf_data['bm_bf'],bm_bf_data['expBM_m_BF']))\n",
    "sns.jointplot(\"bm_bf\", \"expBM_m_BF\", data=bm_bf_data, kind=\"reg\", stat_func=spearmanr)"
   ]
  },
  {
   "cell_type": "markdown",
   "metadata": {},
   "source": [
    "### Nope. Lol.\n",
    "\n",
    "---\n",
    "\n",
    "# Whole-brain analysis\n",
    "\n",
    "Now, let's prepare the whole-brain analysis. This should be run in background due to time consumption. Not here, in a jupyter-notebook.\n",
    "\n",
    "```\n",
    "slres = sl_pairsim_nSs(data,[['b','m'],['b','f']],h5=1,h5out='slPairsim_bm_bf.hdf5')\n",
    "```"
   ]
  },
  {
   "cell_type": "markdown",
   "metadata": {},
   "source": [
    "## Individual differences regression\n",
    "\n",
    "There may be a way to apply this regression in PyMVPAw, let's work on that later. Another option, is to use AFNI:\n",
    "\n",
    "Where input is flattened stereotype overlap (BM - BF) vector:\n",
    "\n",
    "```\n",
    "3dRegAna -rows 26 -cols 1 -xydata ${2} 669.nii.gz -xydata ${3} 672.nii.gz -xydata ${4} 675.nii.gz -xydata ${5} 679.nii.gz -xydata ${6} 680.nii.gz -xydata ${7} 681.nii.gz -xydata ${8} 683.nii.gz -xydata ${9} 686.nii.gz -xydata ${10} 687.nii.gz -xydata ${11} 690.nii.gz -xydata ${12} 691.nii.gz -xydata ${13} 692.nii.gz -xydata ${14} 694.nii.gz -xydata ${15} 695.nii.gz -xydata ${16} 696.nii.gz -xydata ${17} 699.nii.gz -xydata ${18} 701.nii.gz -xydata ${19} 703.nii.gz -xydata ${20} 707.nii.gz -xydata ${21} 709.nii.gz -xydata ${22} 712.nii.gz -xydata ${23} 713.nii.gz -xydata ${24} 715.nii.gz -xydata ${25} 722.nii.gz -xydata ${26} 728.nii.gz -xydata ${27} 729.nii.gz -model 1 : 0 -rmsmin 0 -bucket 0 ${1}_3dRegAna.nii\n",
    "```"
   ]
  },
  {
   "cell_type": "code",
   "execution_count": 16,
   "metadata": {},
   "outputs": [],
   "source": [
    "# load data\n",
    "data = dict( [ (f.split('/')[1][:7],fmri_dataset(f,mask='../../../mufasa_locale/4fcii_unionmask.nii.gz')) for f in glob.glob('../../../mufasa_locale/slPairsim_bm_bf/*') ] )"
   ]
  },
  {
   "cell_type": "code",
   "execution_count": 18,
   "metadata": {},
   "outputs": [
    {
     "data": {
      "text/plain": [
       "{'..': Dataset(array([[ 1.58241045,  0.        ,  0.        , ...,  0.        ,\n",
       "          0.        ,  0.        ]], dtype=float32), sa=SampleAttributesCollection(items=[ArrayCollectable(name='time_indices', doc='Sequence attribute', value=array([0]), length=1), ArrayCollectable(name='time_coords', doc='Sequence attribute', value=array([ 0.]), length=1)]), fa=FeatureAttributesCollection(items=[ArrayCollectable(name='voxel_indices', doc=None, value=array([[ 3, 39, 18],\n",
       "        [ 4, 36, 14],\n",
       "        [ 4, 36, 15],\n",
       "        ..., \n",
       "        [58, 34, 17],\n",
       "        [58, 35, 17],\n",
       "        [58, 35, 18]]), length=92204)]), a=DatasetAttributesCollection(items=[Collectable(name='mapper', doc=None, value=ChainMapper(nodes=[FlattenMapper(shape=(61, 73, 61), auto_train=True, space='voxel_indices'), StaticFeatureSelection(dshape=(271633,), slicearg=array([False, False, False, ..., False, False, False], dtype=bool))])), Collectable(name='imgaffine', doc=None, value=array([[   3.,   -0.,   -0.,  -90.],\n",
       "        [  -0.,    3.,   -0., -126.],\n",
       "        [   0.,    0.,    3.,  -72.],\n",
       "        [   0.,    0.,    0.,    1.]])), Collectable(name='voxel_eldim', doc=None, value=(3.0, 3.0)), Collectable(name='imghdr', doc=None, value={'session_error': array(0, dtype=int16), 'extents': array(0, dtype=int32), 'sizeof_hdr': array(348, dtype=int32), 'srow_x': array([  3.,  -0.,  -0., -90.], dtype=float32), 'srow_y': array([  -0.,    3.,   -0., -126.], dtype=float32), 'pixdim': array([ 1.,  3.,  3.,  3.,  1.,  1.,  1.,  1.], dtype=float32), 'slice_start': array(0, dtype=int16), 'intent_p1': array(0.0, dtype=float32), 'cal_max': array(nan, dtype=float32), 'xyzt_units': array(10, dtype=uint8), 'intent_p2': array(0.0, dtype=float32), 'intent_p3': array(0.0, dtype=float32), 'qoffset_x': array(-90.0, dtype=float32), 'intent_code': array(0, dtype=int16), 'qoffset_z': array(-72.0, dtype=float32), 'sform_code': array(4, dtype=int16), 'hdrtype': 'Nifti1Header', 'cal_min': array(nan, dtype=float32), 'scl_slope': 1.0, 'slice_code': array(0, dtype=uint8), 'slice_duration': array(0.0, dtype=float32), 'quatern_b': array(0.0, dtype=float32), 'vox_offset': array(0.0, dtype=float32), 'bitpix': array(32, dtype=int16), 'descrip': array('',\n",
       "       dtype='|S80'), 'glmin': array(0, dtype=int32), 'dim_info': array(48, dtype=uint8), 'glmax': array(0, dtype=int32), 'quatern_c': array(-0.0, dtype=float32), 'data_type': array('',\n",
       "       dtype='|S10'), 'aux_file': array('',\n",
       "       dtype='|S24'), 'intent_name': array('',\n",
       "       dtype='|S16'), 'srow_z': array([  0.,   0.,   3., -72.], dtype=float32), 'db_name': array('',\n",
       "       dtype='|S18'), 'scl_inter': 0.0, 'quatern_d': array(0.0, dtype=float32), 'dim': array([ 3, 61, 73, 61,  1,  1,  1,  1], dtype=int16), 'magic': array('n+1',\n",
       "       dtype='|S4'), 'datatype': array(16, dtype=int16), 'regular': array('r',\n",
       "       dtype='|S1'), 'slice_end': array(60, dtype=int16), 'qform_code': array(4, dtype=int16), 'qoffset_y': array(-126.0, dtype=float32), 'toffset': array(0.0, dtype=float32)}), Collectable(name='imgtype', doc=None, value='Nifti1Image'), Collectable(name='voxel_dim', doc=None, value=(61, 73, 61))]))}"
      ]
     },
     "execution_count": 18,
     "metadata": {},
     "output_type": "execute_result"
    }
   ],
   "source": [
    "data"
   ]
  },
  {
   "cell_type": "code",
   "execution_count": 13,
   "metadata": {},
   "outputs": [
    {
     "ename": "KeyError",
     "evalue": "'..-b-m'",
     "output_type": "error",
     "traceback": [
      "\u001b[0;31m---------------------------------------------------------------------------\u001b[0m",
      "\u001b[0;31mKeyError\u001b[0m                                  Traceback (most recent call last)",
      "\u001b[0;32m<ipython-input-13-324afb868851>\u001b[0m in \u001b[0;36m<module>\u001b[0;34m()\u001b[0m\n\u001b[1;32m      1\u001b[0m \u001b[0;31m# stack data into 3D dataset (subject,target-pair,voxel)\u001b[0m\u001b[0;34m\u001b[0m\u001b[0;34m\u001b[0m\u001b[0m\n\u001b[0;32m----> 2\u001b[0;31m \u001b[0mdata_subj\u001b[0m \u001b[0;34m=\u001b[0m \u001b[0mdict\u001b[0m\u001b[0;34m(\u001b[0m \u001b[0;34m[\u001b[0m \u001b[0;34m(\u001b[0m\u001b[0ms\u001b[0m\u001b[0;34m,\u001b[0m\u001b[0mnp\u001b[0m\u001b[0;34m.\u001b[0m\u001b[0mvstack\u001b[0m\u001b[0;34m(\u001b[0m\u001b[0;34m[\u001b[0m\u001b[0mdata\u001b[0m\u001b[0;34m[\u001b[0m\u001b[0ms\u001b[0m\u001b[0;34m+\u001b[0m\u001b[0;34m'-b-m'\u001b[0m\u001b[0;34m]\u001b[0m\u001b[0;34m,\u001b[0m\u001b[0mdata\u001b[0m\u001b[0;34m[\u001b[0m\u001b[0ms\u001b[0m\u001b[0;34m+\u001b[0m\u001b[0;34m'-b-f'\u001b[0m\u001b[0;34m]\u001b[0m\u001b[0;34m]\u001b[0m\u001b[0;34m)\u001b[0m\u001b[0;34m)\u001b[0m \u001b[0;32mfor\u001b[0m \u001b[0ms\u001b[0m \u001b[0;32min\u001b[0m \u001b[0mnp\u001b[0m\u001b[0;34m.\u001b[0m\u001b[0munique\u001b[0m\u001b[0;34m(\u001b[0m\u001b[0;34m[\u001b[0m\u001b[0mf\u001b[0m\u001b[0;34m[\u001b[0m\u001b[0;34m:\u001b[0m\u001b[0;36m3\u001b[0m\u001b[0;34m]\u001b[0m \u001b[0;32mfor\u001b[0m \u001b[0mf\u001b[0m \u001b[0;32min\u001b[0m \u001b[0mdata\u001b[0m\u001b[0;34m]\u001b[0m\u001b[0;34m)\u001b[0m \u001b[0;34m]\u001b[0m \u001b[0;34m)\u001b[0m\u001b[0;34m\u001b[0m\u001b[0m\n\u001b[0m\u001b[1;32m      3\u001b[0m \u001b[0mdata_subj_mf\u001b[0m \u001b[0;34m=\u001b[0m \u001b[0mnp\u001b[0m\u001b[0;34m.\u001b[0m\u001b[0mdstack\u001b[0m\u001b[0;34m(\u001b[0m\u001b[0mdata_subj\u001b[0m\u001b[0;34m.\u001b[0m\u001b[0mvalues\u001b[0m\u001b[0;34m(\u001b[0m\u001b[0;34m)\u001b[0m\u001b[0;34m)\u001b[0m\u001b[0;34m\u001b[0m\u001b[0m\n",
      "\u001b[0;31mKeyError\u001b[0m: '..-b-m'"
     ]
    }
   ],
   "source": [
    "# stack data into 3D dataset (subject,target-pair,voxel)\n",
    "data_subj = dict( [ (s,np.vstack([data[s+'-b-m'],data[s+'-b-f']])) for s in np.unique([f[:3] for f in data]) ] )\n",
    "data_subj_mf = np.dstack(data_subj.values())"
   ]
  },
  {
   "cell_type": "code",
   "execution_count": null,
   "metadata": {
    "collapsed": true
   },
   "outputs": [],
   "source": []
  }
 ],
 "metadata": {
  "kernelspec": {
   "display_name": "Python 2",
   "language": "python",
   "name": "python2"
  },
  "language_info": {
   "codemirror_mode": {
    "name": "ipython",
    "version": 2
   },
   "file_extension": ".py",
   "mimetype": "text/x-python",
   "name": "python",
   "nbconvert_exporter": "python",
   "pygments_lexer": "ipython2",
   "version": "2.7.14"
  }
 },
 "nbformat": 4,
 "nbformat_minor": 2
}
